{
 "cells": [
  {
   "cell_type": "code",
   "execution_count": 2,
   "id": "fe90d113",
   "metadata": {},
   "outputs": [],
   "source": [
    "#With credits to Panos Athanasiou & Tim Wilde (30/11/2022)\n",
    "#Produced during first Beira Hackaton\n",
    "\n",
    "import pandas as pd\n",
    "import geopandas as gpd\n",
    "import numpy as np\n",
    "from matplotlib import pyplot as plt\n",
    "import matplotlib\n",
    "import xarray as xr\n",
    "import scipy.interpolate\n",
    "from scipy.interpolate import griddata\n",
    "import contextily\n",
    "#from osgeo import osr\n",
    "#from osgeo import ogr\n",
    "#from osgeo import gdal\n",
    "import rasterio\n",
    "from rasterio.transform import from_origin\n",
    "\n",
    "def write_raster(fn, x, y, data, driver='GTiff', crs=3857, compress='lzw', center=False, nodata=-9999.):\n",
    "    res = (x[-1] - x[0]) / float(len(x) - 1)\n",
    "    crs = rasterio.crs.CRS({\"init\": \"epsg:{}\".format(crs)})\n",
    "    if not center:\n",
    "        transform = from_origin(x[0], y[-1] + res, res, res)\n",
    "    else:\n",
    "        transform = from_origin(x[0] - res / 2., y[-1] + res / 2., res, res)\n",
    "    with rasterio.open(fn, 'w', driver=driver, nodata=nodata,\n",
    "                       height=data.shape[0], width=data.shape[1],\n",
    "                       count=1, dtype=data.dtype,\n",
    "                       crs=crs, transform=transform,\n",
    "                       compress=compress) as dst:\n",
    "        dst.write(data, 1)\n"
   ]
  },
  {
   "cell_type": "code",
   "execution_count": 3,
   "id": "770aa08c",
   "metadata": {},
   "outputs": [],
   "source": [
    "# Input\n",
    "method = 'nearest'\n",
    "crs = 32736\n",
    "sfincs_output = '../examples/sfincs_beira_map.nc'\n",
    "#Use 20 m resolution DEM file to use as grid for sfincs output\n",
    "dem_path = '../examples/topobathy_new.tiff'\n"
   ]
  },
  {
   "cell_type": "code",
   "execution_count": 4,
   "id": "42f18d27",
   "metadata": {},
   "outputs": [],
   "source": [
    "# Open sfincs data and get node centres\n",
    "ds = xr.open_dataset(sfincs_output)\n",
    "xn, yn = ds['mesh2d_node_x'].values, ds['mesh2d_node_y'].values\n",
    "nodes = np.asarray(ds['mesh2d_face_nodes'].values, int)-1\n",
    "x, y = np.average(xn[nodes], axis=1), np.average(yn[nodes], axis=1)\n",
    "zs = np.squeeze(ds['zsmax'].values)\n",
    "zb = np.squeeze(ds['zb'].values)"
   ]
  },
  {
   "cell_type": "code",
   "execution_count": 5,
   "id": "0f8adaea",
   "metadata": {},
   "outputs": [
    {
     "name": "stderr",
     "output_type": "stream",
     "text": [
      "C:\\Users\\weeber\\AppData\\Local\\Temp\\ipykernel_7252\\2652016603.py:2: DeprecationWarning: open_rasterio is Deprecated in favor of rioxarray. For information about transitioning, see: https://corteva.github.io/rioxarray/stable/getting_started/getting_started.html\n",
      "  dem = xr.open_rasterio(dem_path)\n"
     ]
    }
   ],
   "source": [
    "# Open DEM file\n",
    "dem = xr.open_rasterio(dem_path)\n",
    "x0, y0 = dem['x'].values, dem['y'].values[::-1]\n",
    "elv = dem.values[0, : , :]\n",
    "elv = np.where(elv == dem.attrs['nodatavals'][0], np.nan, elv)"
   ]
  },
  {
   "cell_type": "code",
   "execution_count": 6,
   "id": "2b86b7c2",
   "metadata": {},
   "outputs": [],
   "source": [
    "#create 2D arrays\n",
    "xx, yy = np.meshgrid(x0, y0)"
   ]
  },
  {
   "cell_type": "code",
   "execution_count": 7,
   "id": "43d6ad80",
   "metadata": {},
   "outputs": [],
   "source": [
    "# Reinterpolate SFINCS max water levels to the DEM grid\n",
    "grid_zs_max = np.flipud(griddata(np.stack((x, y), axis=1), zs, (xx, yy), method=method))"
   ]
  },
  {
   "cell_type": "code",
   "execution_count": 8,
   "id": "aa4564be",
   "metadata": {},
   "outputs": [],
   "source": [
    "# translate to flood depths\n",
    "fd_max = grid_zs_max - elv \n",
    "fd_max = np.where(fd_max<0.05, np.nan, fd_max) #minimum flood depth of at least 5 cm\n",
    "grid_fd_max = np.flipud(np.reshape(fd_max,(y0.size,x0.size)))"
   ]
  },
  {
   "cell_type": "code",
   "execution_count": 9,
   "id": "52e38c44",
   "metadata": {},
   "outputs": [
    {
     "name": "stdout",
     "output_type": "stream",
     "text": [
      "Writing max flood depth to tif files\n",
      "Calculation of max flood depth finished.\n",
      "Continuing with time series...\n"
     ]
    }
   ],
   "source": [
    "#write as tif files\n",
    "print(\"Writing max flood depth to tif files\")\n",
    "\n",
    "fn_out = sfincs_output.replace('_map.nc','_max_flood_depth')\n",
    "fn_out_wl = sfincs_output.replace('_map.nc','_max_water_level')\n",
    "fn_out_duration = sfincs_output.replace('_map.nc','_flood_duration')\n",
    "fn_out_ts = sfincs_output.replace('_map.nc','_flood_depth')\n",
    "fn_out_nc = sfincs_output.replace('_map.nc','_flood_depth_data')\n",
    "\n",
    "write_raster(fn_out_wl+'.tif', x0, y0, grid_zs_max, driver='GTiff', crs=crs, center=True, nodata=-9999)\n",
    "write_raster(fn_out+'.tif', x0, y0, fd_max, driver='GTiff', crs=crs, center=True, nodata=-9999)\n",
    "\n",
    "print(\"Calculation of max flood depth finished.\")\n",
    "print(\"Continuing with time series...\")"
   ]
  },
  {
   "cell_type": "code",
   "execution_count": 10,
   "id": "c892bede",
   "metadata": {},
   "outputs": [],
   "source": [
    "#Extract data and calculate flooddepth for every time step on detailed grid\n",
    "time = ds['time'].values\n",
    "dt_filter = 8 #write flood maps every 24 hrs (8*3 = 24 hr)"
   ]
  },
  {
   "cell_type": "code",
   "execution_count": 11,
   "id": "d7403109",
   "metadata": {},
   "outputs": [
    {
     "name": "stdout",
     "output_type": "stream",
     "text": [
      "Work on time step 1 of 65\n",
      "Write 24 hrs output to tif file (time step 1 of 65)\n",
      "Work on time step 2 of 65\n",
      "Work on time step 3 of 65\n",
      "Work on time step 4 of 65\n",
      "Work on time step 5 of 65\n",
      "Work on time step 6 of 65\n",
      "Work on time step 7 of 65\n",
      "Work on time step 8 of 65\n",
      "Work on time step 9 of 65\n",
      "Write 24 hrs output to tif file (time step 9 of 65)\n",
      "Work on time step 10 of 65\n",
      "Work on time step 11 of 65\n",
      "Work on time step 12 of 65\n",
      "Work on time step 13 of 65\n",
      "Work on time step 14 of 65\n",
      "Work on time step 15 of 65\n",
      "Work on time step 16 of 65\n",
      "Work on time step 17 of 65\n",
      "Write 24 hrs output to tif file (time step 17 of 65)\n",
      "Work on time step 18 of 65\n",
      "Work on time step 19 of 65\n",
      "Work on time step 20 of 65\n",
      "Work on time step 21 of 65\n",
      "Work on time step 22 of 65\n",
      "Work on time step 23 of 65\n",
      "Work on time step 24 of 65\n",
      "Work on time step 25 of 65\n",
      "Write 24 hrs output to tif file (time step 25 of 65)\n",
      "Work on time step 26 of 65\n",
      "Work on time step 27 of 65\n",
      "Work on time step 28 of 65\n",
      "Work on time step 29 of 65\n",
      "Work on time step 30 of 65\n",
      "Work on time step 31 of 65\n",
      "Work on time step 32 of 65\n",
      "Work on time step 33 of 65\n",
      "Write 24 hrs output to tif file (time step 33 of 65)\n",
      "Work on time step 34 of 65\n",
      "Work on time step 35 of 65\n",
      "Work on time step 36 of 65\n",
      "Work on time step 37 of 65\n",
      "Work on time step 38 of 65\n",
      "Work on time step 39 of 65\n",
      "Work on time step 40 of 65\n",
      "Work on time step 41 of 65\n",
      "Write 24 hrs output to tif file (time step 41 of 65)\n",
      "Work on time step 42 of 65\n",
      "Work on time step 43 of 65\n",
      "Work on time step 44 of 65\n",
      "Work on time step 45 of 65\n",
      "Work on time step 46 of 65\n",
      "Work on time step 47 of 65\n",
      "Work on time step 48 of 65\n",
      "Work on time step 49 of 65\n",
      "Write 24 hrs output to tif file (time step 49 of 65)\n",
      "Work on time step 50 of 65\n",
      "Work on time step 51 of 65\n",
      "Work on time step 52 of 65\n",
      "Work on time step 53 of 65\n",
      "Work on time step 54 of 65\n",
      "Work on time step 55 of 65\n",
      "Work on time step 56 of 65\n",
      "Work on time step 57 of 65\n",
      "Write 24 hrs output to tif file (time step 57 of 65)\n",
      "Work on time step 58 of 65\n",
      "Work on time step 59 of 65\n",
      "Work on time step 60 of 65\n",
      "Work on time step 61 of 65\n",
      "Work on time step 62 of 65\n",
      "Work on time step 63 of 65\n",
      "Work on time step 64 of 65\n",
      "Work on time step 65 of 65\n",
      "Write 24 hrs output to tif file (time step 65 of 65)\n"
     ]
    }
   ],
   "source": [
    "#create empty array for data \n",
    "data_tot = np.zeros((y0.size,x0.size,len(time)))\n",
    "data_wl_tot = np.zeros((y0.size,x0.size,len(time)))\n",
    "for ii in range(0,len(time)):\n",
    "    print('Work on time step '+str(ii+1)+' of '+str(len(time)))\n",
    "    zs = np.squeeze(ds['zs'].values[ii])\n",
    "    grid_zs = np.flipud(griddata(np.stack((x, y), axis=1), zs, (xx, yy), method=method))\n",
    "    fd = grid_zs - elv\n",
    "    grid_fd = np.flipud(np.reshape(fd,(y0.size,x0.size)))\n",
    "    data_tot[:,:,ii] = grid_fd\n",
    "    data_wl_tot[:,:,ii] = grid_zs\n",
    "    if ii % dt_filter == 0:\n",
    "        print(\"Write 24 hrs output to tif file (time step \"+str(ii+1)+\" of \"+str(len(time))+\")\")\n",
    "        dt = str(time[ii])\n",
    "        write_raster(fn_out_ts+dt[0:13]+'.tif', x0, y0, fd, driver='GTiff', crs=crs, center=True, nodata=-9999)"
   ]
  },
  {
   "cell_type": "code",
   "execution_count": 12,
   "id": "ef28a603",
   "metadata": {},
   "outputs": [
    {
     "name": "stdout",
     "output_type": "stream",
     "text": [
      "Write data to netcdf file...\n"
     ]
    }
   ],
   "source": [
    "# Calculate flood duration above a certian threshold based on detailed bathymetry\n",
    "threshold = 0.1 #m\n",
    "flooded = data_tot>=threshold \n",
    "timestep_map_file = 3 #[hrs]\n",
    "duration = np.sum(flooded,axis=2)*timestep_map_file #duration in [hrs]\n",
    "\n",
    "print(\"Write data to netcdf file...\")\n",
    "\n",
    "ds_crs = ds['crs'].copy()\n",
    "\n",
    "ds_ts = xr.Dataset(\n",
    "    data_vars=dict(\n",
    "        flooddepth =([\"xcoord\", \"ycoord\",\"time\"], data_tot[:,:,1:dt_filter:len(time)]),\n",
    "        waterlevel =([\"xcoord\", \"ycoord\",\"time\"], data_wl_tot[:,:,1:dt_filter:len(time)]),\n",
    "        maxflooddepth = ([\"xcoord\", \"ycoord\"], grid_fd_max),\n",
    "        maxwaterlevel = ([\"xcoord\", \"ycoord\"], grid_zs_max),\n",
    "        duration = ([\"xcoord\", \"ycoord\"], duration),\n",
    "    ),\n",
    "    coords=dict(\n",
    "        x=([\"xcoord\", \"ycoord\",], xx),\n",
    "        y=([\"xcoord\", \"ycoord\",], yy),\n",
    "        time= time[1:dt_filter:len(time)], \n",
    "    ),\n",
    "    attrs=dict(\n",
    "        description=\"Flood depth data.\",\n",
    "        units=\"m\"),\n",
    ")\n",
    "\n",
    "ds_ts = ds_ts.merge(ds_crs)\n",
    "ds_ts['crs'] = ds.crs.assign_attrs(epsg_code='EPSG:'+str(crs))\n",
    "ds_ts['crs'].values = crs\n",
    "ds_ts.to_netcdf(path=fn_out_nc+'.nc',mode='w')\n"
   ]
  },
  {
   "cell_type": "code",
   "execution_count": 13,
   "id": "4b9f5a05",
   "metadata": {},
   "outputs": [],
   "source": [
    "#Write duration to tif file\n",
    "write_raster(fn_out_duration+'.tif', x0, y0, np.flipud(duration), driver='GTiff', crs=crs, center=True, nodata=-9999)"
   ]
  },
  {
   "cell_type": "code",
   "execution_count": null,
   "id": "a6ffce7f",
   "metadata": {},
   "outputs": [],
   "source": []
  }
 ],
 "metadata": {
  "kernelspec": {
   "display_name": "Python 3 (ipykernel)",
   "language": "python",
   "name": "python3"
  },
  "language_info": {
   "codemirror_mode": {
    "name": "ipython",
    "version": 3
   },
   "file_extension": ".py",
   "mimetype": "text/x-python",
   "name": "python",
   "nbconvert_exporter": "python",
   "pygments_lexer": "ipython3",
   "version": "3.11.4"
  }
 },
 "nbformat": 4,
 "nbformat_minor": 5
}
