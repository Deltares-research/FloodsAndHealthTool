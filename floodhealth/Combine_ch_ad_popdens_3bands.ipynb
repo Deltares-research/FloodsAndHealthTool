{
 "cells": [
  {
   "cell_type": "markdown",
   "metadata": {},
   "source": [
    "Script to merge Age Data from the WorldPop Database\n",
    "\n",
    "Preparation Steps for the Script: \n",
    "\n",
    "1. Download Age Data of the country of interest from https://hub.worldpop.org/geodata/listing?id=88 \n",
    "--> These are about 36 files\n",
    "2. Make two different folders for Children (0-10 years, 8 files) and Adults (>10 years, 28 files)\n",
    "3. Download the Population density map of the country of interest from https://hub.worldpop.org/geodata/listing?id=76 \n",
    "\n",
    "You should have two input folders (1. adults and 2. children) containing the different tif files of adult and children population and one single file with the overall population density. All files are in TIF format and will be converted to NETCDF ultimately."
   ]
  },
  {
   "cell_type": "markdown",
   "metadata": {},
   "source": [
    "Import Libraries"
   ]
  },
  {
   "cell_type": "code",
   "execution_count": 93,
   "metadata": {},
   "outputs": [],
   "source": [
    "### Import Libraries ###\n",
    "\n",
    "import os\n",
    "import numpy as np\n",
    "from osgeo import gdal\n",
    "import matplotlib.pyplot as plt\n",
    "import matplotlib.cm as cm\n",
    "import matplotlib as mpl\n",
    "import rasterio\n",
    "import xarray as xr\n",
    "import rasterio\n",
    "from rasterio.enums import Resampling"
   ]
  },
  {
   "cell_type": "markdown",
   "metadata": {},
   "source": [
    "Load input data for Adults and Children from folder and combine tiff files to one tiff file with 2 bands (Band 1 = Children, Band 2 = Adults)"
   ]
  },
  {
   "cell_type": "code",
   "execution_count": 94,
   "metadata": {},
   "outputs": [
    {
     "name": "stdout",
     "output_type": "stream",
     "text": [
      "Combined raster file saved to: C:\\Users\\bleser\\OneDrive - Stichting Deltares\\Desktop\\Floods&Health Quantification\\Data bronnen\\tif_raw_moz\\Output\\children_and_adults_combined.tif\n"
     ]
    }
   ],
   "source": [
    "# Input folders containing raster files for children and adults\n",
    "input_folder_children = 'C:/Users/bleser/OneDrive - Stichting Deltares/Desktop/Floods&Health Quantification/Data bronnen/tif_raw_moz/Children_raw'\n",
    "input_folder_adults = 'C:/Users/bleser/OneDrive - Stichting Deltares/Desktop/Floods&Health Quantification/Data bronnen/tif_raw_moz/Adults_raw'\n",
    "\n",
    "# Output folder\n",
    "output_folder = r'C:\\Users\\bleser\\OneDrive - Stichting Deltares\\Desktop\\Floods&Health Quantification\\Data bronnen\\tif_raw_moz\\Output'\n",
    "\n",
    "# Output raster file\n",
    "output_file = r'C:\\Users\\bleser\\OneDrive - Stichting Deltares\\Desktop\\Floods&Health Quantification\\Data bronnen\\tif_raw_moz\\Output\\children_and_adults_combined.tif'\n",
    "\n",
    "# Get a list of raster files for children and adults\n",
    "raster_files_children = [f for f in os.listdir(input_folder_children) if f.endswith('.tif')]\n",
    "raster_files_adults = [f for f in os.listdir(input_folder_adults) if f.endswith('.tif')]\n",
    "\n",
    "if len(raster_files_children) == 0 or len(raster_files_adults) == 0:\n",
    "    raise Exception(\"No raster files found in the input folders.\")\n",
    "\n",
    "# Open the first raster file to get information for the output file\n",
    "first_raster_path = os.path.join(input_folder_children, raster_files_children[0])\n",
    "first_raster = gdal.Open(first_raster_path)\n",
    "\n",
    "if first_raster is None:\n",
    "    raise Exception(f\"Failed to open raster file: {first_raster_path}\")\n",
    "\n",
    "driver = gdal.GetDriverByName('GTiff')\n",
    "rows, cols, bands = first_raster.RasterYSize, first_raster.RasterXSize, 2  # Two bands for children and adults: Band 1 = children, Band 2 = adults\n",
    "geotransform = first_raster.GetGeoTransform()\n",
    "projection = first_raster.GetProjection()\n",
    "\n",
    "# Create arrays to accumulate the combined raster data for children and adults\n",
    "combined_data_children = np.zeros((rows, cols), dtype=np.float32)\n",
    "combined_data_adults = np.zeros((rows, cols), dtype=np.float32)\n",
    "\n",
    "# Loop through each input raster file for children\n",
    "for file_name in raster_files_children:\n",
    "    file_path = os.path.join(input_folder_children, file_name)\n",
    "    input_raster = gdal.Open(file_path)\n",
    "    \n",
    "    # Read the raster data\n",
    "    raster_data = input_raster.ReadAsArray()\n",
    "    \n",
    "    # Set negative values to zero\n",
    "    raster_data[raster_data < 0] = 0\n",
    "    \n",
    "    # Accumulate the raster data for children\n",
    "    combined_data_children += raster_data.astype(np.float32)\n",
    "    \n",
    "    input_raster = None  # Close the input raster file\n",
    "\n",
    "# Loop through each input raster file for adults\n",
    "for file_name in raster_files_adults:\n",
    "    file_path = os.path.join(input_folder_adults, file_name)\n",
    "    input_raster = gdal.Open(file_path)\n",
    "    \n",
    "    # Read the raster data\n",
    "    raster_data = input_raster.ReadAsArray()\n",
    "    \n",
    "    # Set negative values to zero\n",
    "    raster_data[raster_data < 0] = 0\n",
    "    \n",
    "    # Accumulate the raster data for adults\n",
    "    combined_data_adults += raster_data.astype(np.float32)\n",
    "    \n",
    "    input_raster = None  # Close the input raster file\n",
    "\n",
    "# Create the output folder if it doesn't exist\n",
    "os.makedirs(output_folder, exist_ok=True)\n",
    "\n",
    "# Create the output raster file\n",
    "output_path = os.path.join(output_folder, output_file)\n",
    "output_raster = driver.Create(output_path, cols, rows, bands, gdal.GDT_Float32)\n",
    "output_raster.SetGeoTransform(geotransform)\n",
    "output_raster.SetProjection(projection)\n",
    "\n",
    "# Write the combined data to the output file\n",
    "output_raster.GetRasterBand(1).WriteArray(combined_data_children)\n",
    "output_raster.GetRasterBand(2).WriteArray(combined_data_adults)\n",
    "\n",
    "# Close the output raster file and save it\n",
    "output_raster = None\n",
    "\n",
    "print(\"Combined raster file saved to:\", output_path)"
   ]
  },
  {
   "cell_type": "markdown",
   "metadata": {},
   "source": [
    "Convert Combined Children and adults to netCDF"
   ]
  },
  {
   "cell_type": "code",
   "execution_count": 99,
   "metadata": {},
   "outputs": [
    {
     "name": "stdout",
     "output_type": "stream",
     "text": [
      "Conversion completed successfully.\n"
     ]
    }
   ],
   "source": [
    "# Path to the input GeoTIFF file with 2 bands\n",
    "input_tiff = 'C:/Users/bleser/OneDrive - Stichting Deltares\\Desktop\\Floods&Health Quantification\\Data bronnen/tif_raw_moz/Output/children_and_adults_combined.tif'\n",
    "\n",
    "# Path to the output NetCDF file\n",
    "output_netcdf = 'C:/Users/bleser/OneDrive - Stichting Deltares\\Desktop\\Floods&Health Quantification\\Data bronnen/tif_raw_moz/Output/combined_ch_ad.nc'\n",
    "\n",
    "# Open the GeoTIFF file\n",
    "with rasterio.open(input_tiff) as src:\n",
    "    # Read the data and metadata\n",
    "    data = src.read()\n",
    "    profile = src.profile\n",
    "    crs = src.crs\n",
    "\n",
    "    # Create xarray Dataset\n",
    "    ds = xr.Dataset(\n",
    "        {\n",
    "            'band_1': (('y', 'x'), data[0]),\n",
    "            'band_2': (('y', 'x'), data[1]),\n",
    "        },\n",
    "        coords={'x': src.bounds.left + src.res[0] * (0.5 + np.arange(src.width)),\n",
    "                'y': src.bounds.top - src.res[1] * (0.5 + np.arange(src.height))},\n",
    "        attrs={'crs': crs.to_string()},\n",
    "    )\n",
    "\n",
    "    # Save the Dataset to a NetCDF file\n",
    "    ds.to_netcdf(output_netcdf)\n",
    "\n",
    "print(\"Conversion completed successfully.\")"
   ]
  },
  {
   "cell_type": "markdown",
   "metadata": {},
   "source": [
    "Convert pop_dens data to netcdf"
   ]
  },
  {
   "cell_type": "code",
   "execution_count": 100,
   "metadata": {},
   "outputs": [
    {
     "name": "stdout",
     "output_type": "stream",
     "text": [
      "Conversion completed successfully.\n"
     ]
    }
   ],
   "source": [
    "# Path to the input GeoTIFF file with 3 bands\n",
    "input_tiff = r'C:\\Users\\bleser\\OneDrive - Stichting Deltares\\Desktop\\Floods&Health Quantification\\Data bronnen\\tif_raw_moz\\moz_pd_2020.tif'\n",
    "\n",
    "# Path to the output NetCDF file\n",
    "output_netcdf = 'C:/Users/bleser/OneDrive - Stichting Deltares\\Desktop\\Floods&Health Quantification\\Data bronnen/tif_raw_moz/Output/popdens.nc'\n",
    "\n",
    "# Open the GeoTIFF file\n",
    "with rasterio.open(input_tiff) as src:\n",
    "    # Read the data and metadata\n",
    "    data = src.read()\n",
    "    profile = src.profile\n",
    "    crs = src.crs\n",
    "\n",
    "    # Create xarray Dataset\n",
    "    ds = xr.Dataset(\n",
    "        {\n",
    "            'band_1': (('y', 'x'), data[0],)\n",
    "        },\n",
    "        coords={'x': src.bounds.left + src.res[0] * (0.5 + np.arange(src.width)),\n",
    "                'y': src.bounds.top - src.res[1] * (0.5 + np.arange(src.height))},\n",
    "        attrs={'crs': crs.to_string()},\n",
    "    )\n",
    "\n",
    "    # Save the Dataset to a NetCDF file\n",
    "    ds.to_netcdf(output_netcdf)\n",
    "\n",
    "print(\"Conversion completed successfully.\")"
   ]
  },
  {
   "cell_type": "markdown",
   "metadata": {},
   "source": [
    "Merge Combined Adult and Children Data with Population density data (TIF)\n",
    "\n",
    "Problems: Pop_dens data is rougher, larger grids (1km) --> tried to resample to the smaller raster (children and adults combined, 100m), but numbers per grid cell are still veeery high. I think there could be also an issue with , and ."
   ]
  },
  {
   "cell_type": "code",
   "execution_count": 101,
   "metadata": {},
   "outputs": [
    {
     "name": "stdout",
     "output_type": "stream",
     "text": [
      "Merge completed successfully.\n"
     ]
    }
   ],
   "source": [
    "# Paths to input GeoTIFF files\n",
    "population_file = r'C:\\Users\\bleser\\OneDrive - Stichting Deltares\\Desktop\\Floods&Health Quantification\\Data bronnen\\tif_raw_moz\\moz_pd_2020.tif'  # Population data with one band\n",
    "combined_data_file = r'C:\\Users\\bleser\\OneDrive - Stichting Deltares\\Desktop\\Floods&Health Quantification\\Data bronnen\\tif_raw_moz\\Output\\children_and_adults_combined.tif'  # Combined children and adult data with two bands\n",
    "\n",
    "# Read the combined children and adult data\n",
    "with rasterio.open(combined_data_file) as src_combined:\n",
    "    # Read the bands into a list of arrays\n",
    "    combined_arrays = [src_combined.read(i+1) for i in range(src_combined.count)]\n",
    "\n",
    "# Read the population data\n",
    "with rasterio.open(population_file) as src_population:\n",
    "    # Resample the population data to match the resolution of the combined data\n",
    "    resampled_population_array = np.empty((src_combined.height, src_combined.width), dtype=src_population.dtypes[0])\n",
    "    src_population.read(1, out=resampled_population_array, resampling=Resampling.bilinear)\n",
    "\n",
    "# Reshape the population array to have one band and remove the singleton dimension\n",
    "resampled_population_array = np.squeeze(resampled_population_array)\n",
    "\n",
    "# Combine the arrays from the combined data and resampled population data\n",
    "merged_arrays = combined_arrays + [resampled_population_array]\n",
    "\n",
    "# Update metadata from the combined dataset (modify as needed)\n",
    "out_meta = src_combined.meta.copy()\n",
    "out_meta.update({\n",
    "    \"count\": len(merged_arrays),  # Set the number of bands\n",
    "})\n",
    "\n",
    "# Output file path for the merged GeoTIFF\n",
    "output_file ='C:/Users/bleser/OneDrive - Stichting Deltares\\Desktop\\Floods&Health Quantification\\Data bronnen/tif_raw_moz/Output/combined_children_adults_popdens.tif'\n",
    "\n",
    "# Write the merged dataset to a new GeoTIFF file\n",
    "with rasterio.open(output_file, \"w\", **out_meta) as dest:\n",
    "    for i, arr in enumerate(merged_arrays, start=1):\n",
    "        dest.write(arr, i)\n",
    "\n",
    "print(\"Merge completed successfully.\")"
   ]
  },
  {
   "cell_type": "markdown",
   "metadata": {},
   "source": [
    "Convert Merged Tif file to netCDF"
   ]
  },
  {
   "cell_type": "code",
   "execution_count": 102,
   "metadata": {},
   "outputs": [
    {
     "name": "stdout",
     "output_type": "stream",
     "text": [
      "Conversion completed successfully.\n"
     ]
    }
   ],
   "source": [
    "# Path to the input GeoTIFF file with 3 bands\n",
    "input_tiff = 'C:/Users/bleser/OneDrive - Stichting Deltares\\Desktop\\Floods&Health Quantification\\Data bronnen/tif_raw_moz/Output/combined_children_adults_popdens.tif'\n",
    "\n",
    "# Path to the output NetCDF file\n",
    "output_netcdf = 'C:/Users/bleser/OneDrive - Stichting Deltares\\Desktop\\Floods&Health Quantification\\Data bronnen/tif_raw_moz/Output/combined_ch_ad_popdens.nc'\n",
    "\n",
    "# Open the GeoTIFF file\n",
    "with rasterio.open(input_tiff) as src:\n",
    "    # Read the data and metadata\n",
    "    data = src.read()\n",
    "    profile = src.profile\n",
    "    crs = src.crs\n",
    "\n",
    "    # Create xarray Dataset\n",
    "    ds = xr.Dataset(\n",
    "        {\n",
    "            'band_1': (('y', 'x'), data[0]),\n",
    "            'band_2': (('y', 'x'), data[1]),\n",
    "            'band_3': (('y', 'x'), data[2]),\n",
    "        },\n",
    "        coords={'x': src.bounds.left + src.res[0] * (0.5 + np.arange(src.width)),\n",
    "                'y': src.bounds.top - src.res[1] * (0.5 + np.arange(src.height))},\n",
    "        attrs={'crs': crs.to_string()},\n",
    "    )\n",
    "\n",
    "    # Save the Dataset to a NetCDF file\n",
    "    ds.to_netcdf(output_netcdf)\n",
    "\n",
    "print(\"Conversion completed successfully.\")"
   ]
  },
  {
   "cell_type": "markdown",
   "metadata": {},
   "source": [
    "Merge previous two NetCDF files into one"
   ]
  },
  {
   "cell_type": "code",
   "execution_count": 103,
   "metadata": {},
   "outputs": [
    {
     "name": "stdout",
     "output_type": "stream",
     "text": [
      "Merge completed successfully.\n"
     ]
    }
   ],
   "source": [
    "# Path to the input NetCDF files\n",
    "input_netcdf_1 = 'C:/Users/bleser/OneDrive - Stichting Deltares\\Desktop\\Floods&Health Quantification\\Data bronnen/tif_raw_moz/Output/combined_ch_ad.nc'  # NetCDF file with 2 bands\n",
    "input_netcdf_2 = 'C:/Users/bleser/OneDrive - Stichting Deltares\\Desktop\\Floods&Health Quantification\\Data bronnen/tif_raw_moz/Output/popdens.nc'  # NetCDF file with 1 band\n",
    "\n",
    "# Path to the output NetCDF file\n",
    "output_netcdf = 'C:/Users/bleser/OneDrive - Stichting Deltares\\Desktop\\Floods&Health Quantification\\Data bronnen/tif_raw_moz/Output/merged_ch_ad_popdens2.nc'\n",
    "\n",
    "# Open the input NetCDF files\n",
    "ds1 = xr.open_dataset(input_netcdf_1)\n",
    "ds2 = xr.open_dataset(input_netcdf_2)\n",
    "\n",
    "# Merge the datasets\n",
    "merged_ds = xr.merge([ds1, ds2])\n",
    "\n",
    "# Save the merged dataset to a NetCDF file\n",
    "merged_ds.to_netcdf(output_netcdf)\n",
    "\n",
    "print(\"Merge completed successfully.\")"
   ]
  }
 ],
 "metadata": {
  "kernelspec": {
   "display_name": "floodshealth",
   "language": "python",
   "name": "python3"
  },
  "language_info": {
   "codemirror_mode": {
    "name": "ipython",
    "version": 3
   },
   "file_extension": ".py",
   "mimetype": "text/x-python",
   "name": "python",
   "nbconvert_exporter": "python",
   "pygments_lexer": "ipython3",
   "version": "3.9.16"
  },
  "orig_nbformat": 4
 },
 "nbformat": 4,
 "nbformat_minor": 2
}
