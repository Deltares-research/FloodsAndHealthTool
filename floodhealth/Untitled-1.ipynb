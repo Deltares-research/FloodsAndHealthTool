{
 "cells": [
  {
   "cell_type": "code",
   "execution_count": 20,
   "metadata": {},
   "outputs": [],
   "source": [
    "def get_consecutive_timesteps(grid):\n",
    "    rows = len(grid)\n",
    "    cols = len(grid[0])\n",
    "    time_steps = len(grid[0])\n",
    "    consecutive_counts = [[[0] * time_steps for _ in range(cols)] for _ in range(rows)]\n",
    "\n",
    "    for row in range(rows):\n",
    "        for col in range(cols):\n",
    "            count = 1  # Initialize consecutive count for the current cell\n",
    "            for time in range(1, time_steps):\n",
    "                if grid[row][col] == grid[row][col-1]:#][time-1]:\n",
    "                    count += 1\n",
    "                else:\n",
    "                    count = 1\n",
    "                consecutive_counts[row][col][time] = count\n",
    "\n",
    "    return consecutive_counts"
   ]
  },
  {
   "cell_type": "code",
   "execution_count": null,
   "metadata": {},
   "outputs": [],
   "source": []
  },
  {
   "cell_type": "code",
   "execution_count": 8,
   "metadata": {},
   "outputs": [],
   "source": [
    "rows = len(grid)\n",
    "cols = len(grid[0])\n",
    "time_steps = len(grid[0])\n",
    "consecutive_counts = [[[0] * time_steps for _ in range(cols)] for _ in range(rows)]\n"
   ]
  },
  {
   "cell_type": "code",
   "execution_count": 18,
   "metadata": {},
   "outputs": [],
   "source": [
    "\n",
    "for row in range(rows):\n",
    "    for col in range(cols):\n",
    "        count = 1  # Initialize consecutive count for the current cell\n",
    "        for time in range(1, time_steps):\n",
    "            if grid[row][col] == grid[row][col-1]:\n",
    "                count += 1\n",
    "            else:\n",
    "                count = 1\n",
    "            consecutive_counts[row][col][time] = count\n",
    "\n",
    "#return consecutive_counts"
   ]
  },
  {
   "cell_type": "code",
   "execution_count": 17,
   "metadata": {},
   "outputs": [
    {
     "data": {
      "text/plain": [
       "1"
      ]
     },
     "execution_count": 17,
     "metadata": {},
     "output_type": "execute_result"
    }
   ],
   "source": [
    "grid[2][1]"
   ]
  },
  {
   "cell_type": "code",
   "execution_count": 10,
   "metadata": {},
   "outputs": [
    {
     "data": {
      "text/plain": [
       "range(1, 5)"
      ]
     },
     "execution_count": 10,
     "metadata": {},
     "output_type": "execute_result"
    }
   ],
   "source": [
    "range(1, time_steps)"
   ]
  },
  {
   "cell_type": "code",
   "execution_count": 22,
   "metadata": {},
   "outputs": [
    {
     "name": "stdout",
     "output_type": "stream",
     "text": [
      "[[0, 1, 1, 1], [0, 1, 1, 1], [0, 1, 1, 1], [0, 1, 1, 1]]\n",
      "[[0, 1, 1, 1], [0, 2, 3, 4], [0, 2, 3, 4], [0, 1, 1, 1]]\n",
      "[[0, 1, 1, 1], [0, 1, 1, 1], [0, 2, 3, 4], [0, 1, 1, 1]]\n"
     ]
    }
   ],
   "source": [
    "# Example grid with time steps\n",
    "grid = [\n",
    "    [[1, 1, 0], [0, 0, 0], [1, 0, 0], [1, 1, 1]],\n",
    "    [[1, 0, 0], [1, 0, 0], [1, 0, 0], [0, 0, 1]],\n",
    "    [[1, 1, 1], [1, 1, 0], [1, 1, 0], [0, 1, 1]],\n",
    "]\n",
    "\n",
    "consecutive_counts = get_consecutive_timesteps(grid)\n",
    "\n",
    "# Print the resulting counts for each time step\n",
    "for row in consecutive_counts:\n",
    "    print(row)"
   ]
  },
  {
   "cell_type": "code",
   "execution_count": 3,
   "metadata": {},
   "outputs": [
    {
     "name": "stdout",
     "output_type": "stream",
     "text": [
      "[1, 2, 1, 2, 3]\n",
      "[2, 3, 2, 7, 4]\n",
      "[3, 4, 5, 6, 5]\n",
      "[1, 2, 3, 7, 8]\n"
     ]
    }
   ],
   "source": [
    "for row in consecutive_counts:\n",
    "    print(row)"
   ]
  }
 ],
 "metadata": {
  "kernelspec": {
   "display_name": "FH",
   "language": "python",
   "name": "python3"
  },
  "language_info": {
   "codemirror_mode": {
    "name": "ipython",
    "version": 3
   },
   "file_extension": ".py",
   "mimetype": "text/x-python",
   "name": "python",
   "nbconvert_exporter": "python",
   "pygments_lexer": "ipython3",
   "version": "3.11.4"
  },
  "orig_nbformat": 4
 },
 "nbformat": 4,
 "nbformat_minor": 2
}
