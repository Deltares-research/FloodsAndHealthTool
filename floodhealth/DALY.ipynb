{
 "cells": [
  {
   "cell_type": "code",
   "execution_count": 2,
   "metadata": {},
   "outputs": [
    {
     "name": "stdout",
     "output_type": "stream",
     "text": [
      "470.0\n",
      "382204.0\n"
     ]
    }
   ],
   "source": [
    "#DALY = lost years of healthy life due to premature death and disability\n",
    "#DALY is calculated by multiplying Yearly life lost due to disability (YLD) and Years of life lost (YLL) \n",
    "#Values are based on WHO tables for YLD and YLL \n",
    "#c=cause, s=sex, a=age, t=time\n",
    "\n",
    "#DALY(c,s,a,t) = YLL(c,s,a,t) + YLD(c,s,a,t) \n",
    "\n",
    "#YLL is calculated by multiplying the number of deaths by the standard life expectancy at the age at which death occurs\n",
    "\n",
    "#YLL = N * L(c,s,a,t) \n",
    "\n",
    "#YLL Diarrhea, all persons/no age/no gender/data from WHO 2019\n",
    "YLL = 813.2\n",
    "\n",
    "#YLD is calculated by multiplying the number of incident cases by the average duration of the disease and a disability weight that reflects the severity of the disease on a scale from 0 (perfect health) to 1 (equivalent to death)\n",
    "#This could be changed by flood health model, added to yearly incident causes of diarrhea?\n",
    "\n",
    "#YLD = I * DW(c,s,a,t) * D(c,s,a,t) \n",
    "\n",
    "#parameters Diarrhea\n",
    "#global uncertainty for diarrhoeal diseases is 41.1% (WHO, 2019)\n",
    "\n",
    "I= 1000      #affected population per grid cell #\n",
    "DW= 0.188    #WHO disability weight for moderate diarrhea #Health state weight mild diarrhea: 0.074, moderate diarrhea: 0.188, severe diarrhea: 0.247\n",
    "D= 2.5       #average duration of moderate diarrhea in days\n",
    "\n",
    "YLD = I * DW * D\n",
    "\n",
    "print(YLD)\n",
    "\n",
    "DALY= YLL * YLD \n",
    "\n",
    "print(DALY)"
   ]
  }
 ],
 "metadata": {
  "kernelspec": {
   "display_name": "floodshealth",
   "language": "python",
   "name": "python3"
  },
  "language_info": {
   "codemirror_mode": {
    "name": "ipython",
    "version": 3
   },
   "file_extension": ".py",
   "mimetype": "text/x-python",
   "name": "python",
   "nbconvert_exporter": "python",
   "pygments_lexer": "ipython3",
   "version": "3.9.16"
  },
  "orig_nbformat": 4
 },
 "nbformat": 4,
 "nbformat_minor": 2
}
