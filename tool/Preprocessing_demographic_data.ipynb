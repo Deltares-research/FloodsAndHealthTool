{
 "cells": [
  {
   "cell_type": "markdown",
   "metadata": {},
   "source": [
    "Script to merge Age Data from the WorldPop Database\n",
    "\n",
    "This script is meant to prepare the demographic data (Age, Population density) from the WorldPop Databank (https://hub.worldpop.org) for the further analysis with the Floods and Health Tool. \n",
    "\n",
    "This script merges the  input files (tif) into one file (netcdf) containing  bands: band 1 Children counts, band 2 Adult counts, band 3 Population density. The population density data is resampled to the smaller pixel size of the age data and the interpolation method used is Neares Neighbour. \n"
   ]
  },
  {
   "cell_type": "markdown",
   "metadata": {},
   "source": [
    "\n",
    "\n",
    "Preparation Steps for the Script: \n",
    "\n",
    "1. Download Age Data of the country of interest from https://hub.worldpop.org/geodata/listing?id=88 \n",
    "--> These are about 36 files\n",
    "2. Make two different folders for Children (0-10 years, 8 files) and Adults (>10 years, 28 files)\n",
    "3. Download the Population density map of the country of interest from https://hub.worldpop.org/geodata/listing?id=76 \n",
    "\n",
    "You should have two input folders (1. adults and 2. children) containing the different tif files of adult and children population and one single file with the overall population density. All files are in TIF format and will be converted to NETCDF ultimately."
   ]
  },
  {
   "cell_type": "markdown",
   "metadata": {},
   "source": [
    "Import Libraries"
   ]
  },
  {
   "cell_type": "code",
   "execution_count": 37,
   "metadata": {},
   "outputs": [],
   "source": [
    "### Import Libraries ###\n",
    "\n",
    "import os\n",
    "import numpy as np\n",
    "from osgeo import gdal\n",
    "import matplotlib.pyplot as plt\n",
    "import matplotlib.cm as cm\n",
    "import matplotlib as mpl\n",
    "import rasterio\n",
    "import xarray as xr\n",
    "import rasterio\n",
    "from rasterio.enums import Resampling\n",
    "import gdal\n"
   ]
  },
  {
   "cell_type": "markdown",
   "metadata": {},
   "source": [
    "Load input data for Adults and Children from folder and combine tiff files to one tiff file with 2 bands (Band 1 = Children, Band 2 = Adults)"
   ]
  },
  {
   "cell_type": "code",
   "execution_count": 23,
   "metadata": {},
   "outputs": [
    {
     "name": "stdout",
     "output_type": "stream",
     "text": [
      "Combined raster file saved to: C:\\Users\\bleser\\OneDrive - Stichting Deltares\\Desktop\\Floods&Health Quantification\\Data bronnen\\tif_raw_moz\\Output\\children_and_adults_combined.tif\n"
     ]
    }
   ],
   "source": [
    "\n",
    "# Directory with input data\n",
    "mapsDir = '../examples/'\n",
    "# output directory\n",
    "ds_out = '/output/preprocess/' #make new output folder for pre-processing?\n",
    "\n",
    "# Input folders containing raster files for children and adults\n",
    "input_folder_children = mapsDir+'Children_raw' #'C:/Users/bleser/OneDrive - Stichting Deltares/Desktop/Floods&Health Quantification/Data bronnen/tif_raw_moz/Children_raw'\n",
    "input_folder_adults = mapsDir+'Adults_raw'#'C:/Users/bleser/OneDrive - Stichting Deltares/Desktop/Floods&Health Quantification/Data bronnen/tif_raw_moz/Adults_raw'\n",
    "\n",
    "# Output folder\n",
    "#output_folder = r'C:\\Users\\bleser\\OneDrive - Stichting Deltares\\Desktop\\Floods&Health Quantification\\Data bronnen\\tif_raw_moz\\Output'\n",
    "\n",
    "# Output raster file\n",
    "Ch_ad_combined_tif = ds_out+'children_adults_combined.tif' r'C:\\Users\\bleser\\OneDrive - Stichting Deltares\\Desktop\\Floods&Health Quantification\\Data bronnen\\tif_raw_moz\\Output\\children_and_adults_combined.tif'\n",
    "\n",
    "# Get a list of raster files for children and adults\n",
    "raster_files_children = [f for f in os.listdir(input_folder_children) if f.endswith('.tif')]\n",
    "raster_files_adults = [f for f in os.listdir(input_folder_adults) if f.endswith('.tif')]\n",
    "\n",
    "if len(raster_files_children) == 0 or len(raster_files_adults) == 0:\n",
    "    raise Exception(\"No raster files found in the input folders.\")\n",
    "\n",
    "# Open the first raster file to get information for the output file\n",
    "first_raster_path = os.path.join(input_folder_children, raster_files_children[0])\n",
    "first_raster = gdal.Open(first_raster_path)\n",
    "\n",
    "if first_raster is None:\n",
    "    raise Exception(f\"Failed to open raster file: {first_raster_path}\")\n",
    "\n",
    "driver = gdal.GetDriverByName('GTiff')\n",
    "rows, cols, bands = first_raster.RasterYSize, first_raster.RasterXSize, 2  # Two bands for children and adults: Band 1 = children, Band 2 = adults\n",
    "geotransform = first_raster.GetGeoTransform()\n",
    "projection = first_raster.GetProjection()\n",
    "\n",
    "# Create arrays to accumulate the combined raster data for children and adults\n",
    "combined_data_children = np.zeros((rows, cols), dtype=np.float32)\n",
    "combined_data_adults = np.zeros((rows, cols), dtype=np.float32)\n",
    "\n",
    "# Loop through each input raster file for children\n",
    "for file_name in raster_files_children:\n",
    "    file_path = os.path.join(input_folder_children, file_name)\n",
    "    input_raster = gdal.Open(file_path)\n",
    "    \n",
    "    # Read the raster data\n",
    "    raster_data = input_raster.ReadAsArray()\n",
    "    \n",
    "    # Set negative values to zero\n",
    "    raster_data[raster_data < 0] = 0\n",
    "    \n",
    "    # Accumulate the raster data for children\n",
    "    combined_data_children += raster_data.astype(np.float32)\n",
    "    \n",
    "    input_raster = None  # Close the input raster file\n",
    "\n",
    "# Loop through each input raster file for adults\n",
    "for file_name in raster_files_adults:\n",
    "    file_path = os.path.join(input_folder_adults, file_name)\n",
    "    input_raster = gdal.Open(file_path)\n",
    "    \n",
    "    # Read the raster data\n",
    "    raster_data = input_raster.ReadAsArray()\n",
    "    \n",
    "    # Set negative values to zero\n",
    "    raster_data[raster_data < 0] = 0\n",
    "    \n",
    "    # Accumulate the raster data for adults\n",
    "    combined_data_adults += raster_data.astype(np.float32)\n",
    "    \n",
    "    input_raster = None  # Close the input raster file\n",
    "\n",
    "# Create the output folder if it doesn't exist\n",
    "os.makedirs(ds_out, exist_ok=True)\n",
    "\n",
    "# Create the output raster file\n",
    "output_path = os.path.join(ds_out, Ch_ad_combined_tif)\n",
    "output_raster = driver.Create(output_path, cols, rows, bands, gdal.GDT_Float32)\n",
    "output_raster.SetGeoTransform(geotransform)\n",
    "output_raster.SetProjection(projection)\n",
    "\n",
    "# Write the combined data to the output file\n",
    "output_raster.GetRasterBand(1).WriteArray(combined_data_children)\n",
    "output_raster.GetRasterBand(2).WriteArray(combined_data_adults)\n",
    "\n",
    "# Close the output raster file and save it\n",
    "output_raster = None\n",
    "\n",
    "print(\"Combined raster file saved to:\", output_path)"
   ]
  },
  {
   "cell_type": "markdown",
   "metadata": {},
   "source": [
    "Convert Combined Children and adults to netCDF"
   ]
  },
  {
   "cell_type": "code",
   "execution_count": 24,
   "metadata": {},
   "outputs": [
    {
     "name": "stdout",
     "output_type": "stream",
     "text": [
      "Conversion completed successfully.\n"
     ]
    }
   ],
   "source": [
    "# Path to the output NetCDF file\n",
    "Ch_ad_combined_nc = ds_out+'combined_ch_ad.nc'\n",
    "\n",
    "# Open the GeoTIFF file\n",
    "with rasterio.open(Ch_ad_combined_tif) as src:\n",
    "    # Read the data and metadata\n",
    "    data = src.read()\n",
    "    profile = src.profile\n",
    "    crs = src.crs\n",
    "\n",
    "    # Create xarray Dataset\n",
    "    ds = xr.Dataset(\n",
    "        {\n",
    "            'band_1': (('y', 'x'), data[0]),\n",
    "            'band_2': (('y', 'x'), data[1]),\n",
    "        },\n",
    "        coords={'x': src.bounds.left + src.res[0] * (0.5 + np.arange(src.width)),\n",
    "                'y': src.bounds.top - src.res[1] * (0.5 + np.arange(src.height))},\n",
    "        attrs={'crs': crs.to_string()},\n",
    "    )\n",
    "\n",
    "    # Save the Dataset to a NetCDF file\n",
    "    ds.to_netcdf(Ch_ad_combined_nc)\n",
    "\n",
    "print(\"Conversion completed successfully.\")"
   ]
  },
  {
   "cell_type": "markdown",
   "metadata": {},
   "source": [
    "Pre-process PopDens Data\n",
    "\n",
    "Resampling with gdal, making it the same pixel size as the age data. Resampling method: Nearest Neigbour"
   ]
  },
  {
   "cell_type": "code",
   "execution_count": 60,
   "metadata": {},
   "outputs": [],
   "source": [
    "# Input and output file paths\n",
    "input_popdens = mapsDir+ 'moz_pd_2020.tif'\n",
    "output_popdens_tif = ds_out+'popd_raster_fine.tif'\n",
    "\n",
    "# Open the input dataset\n",
    "src_ds = gdal.Open(input_popdens)\n",
    "\n",
    "# Get the input geotransform and projection\n",
    "geotransform = src_ds.GetGeoTransform()\n",
    "projection = src_ds.GetProjection()\n",
    "\n",
    "# Specify the metadata values\n",
    "new_min_x = 30.2179165609999991\n",
    "new_max_x = 40.8395831851799969\n",
    "new_min_y = -26.8687496907399996\n",
    "new_max_y = -10.4704164229999996\n",
    "new_width = 12746\n",
    "new_height = 19678\n",
    "new_pixel_width = 0.0008333333299999999945\n",
    "new_pixel_height = -0.0008333333299999999945\n",
    "\n",
    "# Create the output dataset\n",
    "drv = gdal.GetDriverByName('GTiff')\n",
    "dst_ds = drv.Create(output_popdens_tif, new_width, new_height, src_ds.RasterCount, gdal.GDT_Float32)\n",
    "\n",
    "# Calculate the geotransform for the output dataset\n",
    "new_geotransform = (new_min_x, new_pixel_width, 0, new_max_y, 0, new_pixel_height)\n",
    "\n",
    "# Set the geotransform and projection for the output dataset\n",
    "dst_ds.SetGeoTransform(new_geotransform)\n",
    "dst_ds.SetProjection(projection)\n",
    "\n",
    "# Perform the resampling with nearest neighbor\n",
    "resample_method = gdal.GRA_NearestNeighbour\n",
    "gdal.ReprojectImage(src_ds, dst_ds, None, None, resample_method)\n",
    "\n",
    "# Close the datasets\n",
    "src_ds = None\n",
    "dst_ds = None"
   ]
  },
  {
   "cell_type": "markdown",
   "metadata": {},
   "source": [
    "Convert pop_dens data to netcdf"
   ]
  },
  {
   "cell_type": "code",
   "execution_count": 100,
   "metadata": {},
   "outputs": [
    {
     "name": "stdout",
     "output_type": "stream",
     "text": [
      "Conversion completed successfully.\n"
     ]
    }
   ],
   "source": [
    "\n",
    "# Path to the output NetCDF file\n",
    "output_netcdf_popdens = ds_out+'popdens.nc'\n",
    "\n",
    "# Open the GeoTIFF file\n",
    "with rasterio.open(output_popdens_tif) as src:\n",
    "    # Read the data and metadata\n",
    "    data = src.read()\n",
    "    profile = src.profile\n",
    "    crs = src.crs\n",
    "\n",
    "    # Create xarray Dataset\n",
    "    ds = xr.Dataset(\n",
    "        {\n",
    "            'band_1': (('y', 'x'), data[0],)\n",
    "        },\n",
    "        coords={'x': src.bounds.left + src.res[0] * (0.5 + np.arange(src.width)),\n",
    "                'y': src.bounds.top - src.res[1] * (0.5 + np.arange(src.height))},\n",
    "        attrs={'crs': crs.to_string()},\n",
    "    )\n",
    "\n",
    "    # Save the Dataset to a NetCDF file\n",
    "    ds.to_netcdf(output_netcdf_popdens)\n",
    "\n",
    "print(\"Conversion completed successfully.\")"
   ]
  },
  {
   "cell_type": "markdown",
   "metadata": {},
   "source": [
    "Merge previous two NetCDF files into one (Children + Adults + PopDens)"
   ]
  },
  {
   "cell_type": "code",
   "execution_count": 103,
   "metadata": {},
   "outputs": [
    {
     "name": "stdout",
     "output_type": "stream",
     "text": [
      "Merge completed successfully.\n"
     ]
    }
   ],
   "source": [
    "# Path to the output NetCDF file\n",
    "output_netcdf = ds_out+'merged_ch_ad_popdens.nc'\n",
    "\n",
    "# Open the input NetCDF files\n",
    "ds1 = xr.open_dataset(Ch_ad_combined_nc)\n",
    "ds2 = xr.open_dataset(output_netcdf_popdens)\n",
    "\n",
    "# Merge the datasets\n",
    "merged_ds = xr.merge([ds1, ds2])\n",
    "\n",
    "# Save the merged dataset to a NetCDF file\n",
    "merged_ds.to_netcdf(output_netcdf)\n",
    "\n",
    "print(\"Merge completed successfully.\")"
   ]
  }
 ],
 "metadata": {
  "kernelspec": {
   "display_name": "floodshealth",
   "language": "python",
   "name": "python3"
  },
  "language_info": {
   "codemirror_mode": {
    "name": "ipython",
    "version": 3
   },
   "file_extension": ".py",
   "mimetype": "text/x-python",
   "name": "python",
   "nbconvert_exporter": "python",
   "pygments_lexer": "ipython3",
   "version": "3.9.16"
  },
  "orig_nbformat": 4
 },
 "nbformat": 4,
 "nbformat_minor": 2
}
