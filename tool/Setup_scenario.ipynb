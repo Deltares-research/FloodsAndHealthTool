{
 "cells": [
  {
   "cell_type": "markdown",
   "metadata": {},
   "source": [
    "This script is meant to create a scenario folder & process the flooding maps for the QMRA scenarios"
   ]
  },
  {
   "cell_type": "code",
   "execution_count": 108,
   "metadata": {},
   "outputs": [],
   "source": [
    "import os\n",
    "import shutil\n",
    "import numpy as np\n",
    "import xugrid as xu\n",
    "import matplotlib.pyplot as plt\n"
   ]
  },
  {
   "cell_type": "code",
   "execution_count": 109,
   "metadata": {},
   "outputs": [],
   "source": [
    "#### User defined settings ####\n",
    "\n",
    "# set scenario name\n",
    "Fname = 'Scenario_1' \n",
    "\n",
    "# select origin of flood map -> 1 = selected\n",
    "Dhydro = 0\n",
    "Sfincs = 1\n",
    "\n",
    "# set location of the original flood map\n",
    "mapsDir = '../examples/'           # location of the original flood map\n",
    "nameFM = 'sfincs_beira_map.nc'     # name of the original flood map\n",
    "\n",
    "# set bounding box\n",
    "BB = 1 # 1 = bounding box, 0 = full map\n",
    "\n",
    "if BB == 1:\n",
    "    # set bounding box coordinates\n",
    "    xmin = 0.66e6\n",
    "    xmax = 0.71e6\n",
    "    ymin = 7.79e6\n",
    "    ymax = 7.84e6\n",
    "  \n",
    "# Set the required flood map stats for QMRA analysis \n",
    "FloodArea = 1\n",
    "FloodMax  = 0\n",
    "FloodDur  = 0\n",
    "FloodNr   = 0\n",
    "\n",
    "# if FloodArea = 1, choose the timestep, other options create a one time step output\n",
    "timestep = 10\n"
   ]
  },
  {
   "cell_type": "code",
   "execution_count": 121,
   "metadata": {},
   "outputs": [
    {
     "name": "stdout",
     "output_type": "stream",
     "text": [
      "!!!The pop age file is not in place!!!\n"
     ]
    }
   ],
   "source": [
    "### Include here check on presence of age pop data ####\n",
    "# TODO: need to check if age pop data is on the same grid! Otherwise this needs to be done in the age pop preprocessor.\n",
    "\n",
    "popfile = os.path.join('.','popdata.nc')    \n",
    "\n",
    "if os.path.exists(popfile):\n",
    "    print(f\"The pop age file is in place.\")\n",
    "else:\n",
    "    print(f\"!!!The pop age file is not in place!!!\")\n"
   ]
  },
  {
   "cell_type": "code",
   "execution_count": 111,
   "metadata": {},
   "outputs": [
    {
     "name": "stdout",
     "output_type": "stream",
     "text": [
      "Warning: 'Scenario_1' already exists.\n"
     ]
    }
   ],
   "source": [
    "# Create scenario folder & check whether the folder already exists\n",
    "\n",
    "try:\n",
    "    os.mkdir(os.path.join('.',Fname))                   # '.' is used to create the folder in the current directory (relative path)\n",
    "    print(f\"Folder '{Fname}' is created successfully.\")\n",
    "except OSError as error:\n",
    "    print(f\"Warning: '{Fname}' already exists.\")\n"
   ]
  },
  {
   "cell_type": "code",
   "execution_count": 112,
   "metadata": {},
   "outputs": [
    {
     "name": "stdout",
     "output_type": "stream",
     "text": [
      "Files copied successfully.\n"
     ]
    }
   ],
   "source": [
    "### Copying files from default_ymls to scenario folder ####\n",
    "# perhaps TODO: check if yamls are already in scenario folder - if so, do not overwrite.\n",
    "\n",
    "source_folder_path = './default_ymls'\n",
    "destination_folder_path = os.path.join('.',Fname)\n",
    "\n",
    "# Get a list of all files in the source folder with the .yml extension\n",
    "ymls_to_copy = [file \n",
    "                for file in os.listdir(source_folder_path) \n",
    "                if file.endswith('.yml')]\n",
    "try:\n",
    "    # Iterate through the list of files and copy each one to the destination folder\n",
    "    for file_to_copy in ymls_to_copy:\n",
    "        source_file_path = os.path.join(source_folder_path, file_to_copy)\n",
    "        destination_file_path = os.path.join(destination_folder_path, file_to_copy)\n",
    "        shutil.copy(source_file_path, destination_file_path)\n",
    "\n",
    "    print(\"Files copied successfully.\")\n",
    "except FileNotFoundError:\n",
    "    print(\"Source folder not found.\")\n",
    "except IOError as e:\n",
    "    print(f\"Error occurred while copying the files: {e}\")"
   ]
  },
  {
   "cell_type": "code",
   "execution_count": 113,
   "metadata": {},
   "outputs": [
    {
     "name": "stdout",
     "output_type": "stream",
     "text": [
      "Sfincs output selected\n"
     ]
    }
   ],
   "source": [
    "# switch between D-Hydro and Sfincs output - move upward\n",
    "\n",
    "if Dhydro == 1:\n",
    "    param = 'Mesh2d_waterdepth'\n",
    "    print('D-Hydro output selected')\n",
    "elif Sfincs == 1:\n",
    "    param = 'zs'\n",
    "    print('Sfincs output selected')\n",
    "else:\n",
    "    print('Please select either D-Hydro or Sfincs output')"
   ]
  },
  {
   "cell_type": "code",
   "execution_count": 114,
   "metadata": {},
   "outputs": [],
   "source": [
    "# read in flood map data\n",
    "tFlood = xu.open_dataset(mapsDir+ nameFM)\n",
    "\n",
    "# copy it to a new file\n",
    "FN_Flood = tFlood.copy()  \n",
    "\n",
    "# delete the old file\n",
    "tFlood.close()\n",
    "del tFlood"
   ]
  },
  {
   "cell_type": "code",
   "execution_count": 115,
   "metadata": {},
   "outputs": [],
   "source": [
    "### Set bounding box ###\n",
    "\n",
    "if BB == 1:\n",
    "    FN_Flood = FN_Flood.ugrid.sel(x=slice(xmin,xmax), y=slice(ymin,ymax))"
   ]
  },
  {
   "cell_type": "code",
   "execution_count": 116,
   "metadata": {},
   "outputs": [],
   "source": [
    "#### create the scenario values ####\n",
    "\n",
    "temp = FN_Flood[param][:] # select the parameter of interest\n",
    "\n",
    "# FloodedArea -> replace values <0.1 m with NaN\n",
    "\n",
    "if FloodArea == 1:\n",
    "    temp[\"FloodedArea\"]=FN_Flood.variables[param].isel(time=timestep)\n",
    "    temp[\"FloodedArea\"] = temp[\"FloodedArea\"].assign_attrs({\"units\": \"cell_size\", \"long_name\": \"Flooded area\",\"standard_name\": \"FloodedArea\"})\n",
    "    \n",
    "    # replace values <0.1 m with NaN\n",
    "    temp[\"FloodedArea\"][:] = np.where(temp[\"FloodedArea\"][:] < 0.1, np.nan, temp[\"FloodedArea\"][:])\n",
    "\n",
    "# Maximum flood height -> select maximum water depth values over time period per cell\n",
    "\n",
    "if FloodMax == 1:\n",
    "    print(\"Maximum flood height is under construction\")\n",
    "    #temp[\"MaxFloodHeight\"] = FN_Flood[\"Mesh2d_waterdepth\"][:]\n",
    "    #temp[\"MaxFloodHeight\"] = temp[\"MaxFloodHeight\"].assign_attrs({\"units\": \"cell_size\", \"long_name\": \"max height of the flood per cell\",\"standard_name\": \"MaxFloodHeight\"})\n",
    "    # TODO: create the proper code\n",
    "\n",
    "# Flood duration -> select max duration of flood per cell\n",
    "\n",
    "if FloodDur == 1:\n",
    "    print(\"Maximum flood height is under construction\")\n",
    "    #temp[\"MaxFloodduration\"] = FN_Flood[\"Mesh2d_waterdepth\"][:]\n",
    "    #temp[\"MaxFloodduration\"] = temp[\"MaxFloodduration\"].assign_attrs({\"units\": \"cell_size\", \"long_name\": \"max duration of a flood (cons. days)\",\"standard_name\": \"MaxFloodduration\"})\n",
    "    # TODO: create the proper code\n",
    "\n",
    "# Flood number -> select number of floods per cell per model run\n",
    "\n",
    "if FloodNr == 1:\n",
    "    print(\"Maximum flood height is under construction\")\n",
    "    #temp[\"MaxFloodNr\"] = FN_Flood[\"Mesh2d_waterdepth\"][:]\n",
    "    #temp[\"MaxFloodNr\"] = temp[\"MaxFloodNr\"].assign_attrs({\"units\": \"cell_size\", \"long_name\": \"number of floods per cell\",\"standard_name\": \"MaxFloodNr\"})\n",
    "    # TODO: create the proper code"
   ]
  },
  {
   "cell_type": "code",
   "execution_count": 117,
   "metadata": {},
   "outputs": [],
   "source": [
    "### write the flood scenario to a netcdf file ###\n",
    "\n",
    "temp.ugrid.to_netcdf(destination_folder_path + '\\\\' + 'Floodscenariots.nc')"
   ]
  },
  {
   "cell_type": "code",
   "execution_count": 118,
   "metadata": {},
   "outputs": [
    {
     "data": {
      "text/plain": [
       "<matplotlib.collections.PolyCollection at 0x17400f8ad90>"
      ]
     },
     "execution_count": 118,
     "metadata": {},
     "output_type": "execute_result"
    },
    {
     "data": {
      "image/png": "[encoded data removed]",
      "text/plain": [
       "<Figure size 640x480 with 2 Axes>"
      ]
     },
     "metadata": {},
     "output_type": "display_data"
    }
   ],
   "source": [
    "### if needed for inspecting the data -> Plot the flood map\n",
    "#temp[\"FloodedArea\"].isel(time=45).ugrid.plot()\n",
    "temp[\"FloodedArea\"].ugrid.plot()"
   ]
  },
  {
   "cell_type": "code",
   "execution_count": 119,
   "metadata": {},
   "outputs": [],
   "source": [
    "# just for script testing purposes\n",
    "#%reset -f\n"
   ]
  }
 ],
 "metadata": {
  "kernelspec": {
   "display_name": "FH",
   "language": "python",
   "name": "python3"
  },
  "language_info": {
   "codemirror_mode": {
    "name": "ipython",
    "version": 3
   },
   "file_extension": ".py",
   "mimetype": "text/x-python",
   "name": "python",
   "nbconvert_exporter": "python",
   "pygments_lexer": "ipython3",
   "version": "3.11.4"
  },
  "orig_nbformat": 4
 },
 "nbformat": 4,
 "nbformat_minor": 2
}
